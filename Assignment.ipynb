{
  "nbformat": 4,
  "nbformat_minor": 0,
  "metadata": {
    "colab": {
      "provenance": []
    },
    "kernelspec": {
      "name": "python3",
      "display_name": "Python 3"
    },
    "language_info": {
      "name": "python"
    }
  },
  "cells": [
    {
      "cell_type": "code",
      "execution_count": 42,
      "metadata": {
        "colab": {
          "base_uri": "https://localhost:8080/",
          "height": 0
        },
        "id": "LYzrIRQ5wAtT",
        "outputId": "257592fd-e395-46f2-b986-bbabc9870396"
      },
      "outputs": [
        {
          "output_type": "stream",
          "name": "stdout",
          "text": [
            "[13 15 15 15  7 18  7  1 15 11 14 16  9  2 19]\n"
          ]
        }
      ],
      "source": [
        "#Numpy Creation of 3x5\n",
        "import numpy as np\n",
        "a=np.random.randint(1,20,15)\n",
        "print(a)"
      ]
    },
    {
      "cell_type": "code",
      "source": [
        "#reshape the array\n",
        "b=a.reshape((3,5))\n",
        "print(b)"
      ],
      "metadata": {
        "colab": {
          "base_uri": "https://localhost:8080/",
          "height": 0
        },
        "id": "7ZysRZvc2Gf3",
        "outputId": "c887dab7-5b1b-4c3d-d11b-a92d31290023"
      },
      "execution_count": 43,
      "outputs": [
        {
          "output_type": "stream",
          "name": "stdout",
          "text": [
            "[[13 15 15 15  7]\n",
            " [18  7  1 15 11]\n",
            " [14 16  9  2 19]]\n"
          ]
        }
      ]
    },
    {
      "cell_type": "code",
      "source": [
        "#print shape of array\n",
        "print(b.shape)"
      ],
      "metadata": {
        "colab": {
          "base_uri": "https://localhost:8080/",
          "height": 0
        },
        "id": "zd92Kb1-2SPr",
        "outputId": "e4296182-8b80-4996-908f-9d289274b8db"
      },
      "execution_count": 44,
      "outputs": [
        {
          "output_type": "stream",
          "name": "stdout",
          "text": [
            "(3, 5)\n"
          ]
        }
      ]
    },
    {
      "cell_type": "code",
      "source": [
        "#replace max in each row by 0\n",
        "np.max(b,axis=1)\n",
        "#print(len(b))\n",
        "for i in b:\n",
        "  #print(i)\n",
        "  m=i.max()\n",
        "  print(m)\n",
        "  for j in range(len(i)):\n",
        "    if i[j]==m:\n",
        "      #print(i[j])\n",
        "      i[j]=0\n",
        "      #print(i[j])\n",
        "print(b)\n",
        "\n"
      ],
      "metadata": {
        "colab": {
          "base_uri": "https://localhost:8080/",
          "height": 0
        },
        "id": "rIynXYPR4T1J",
        "outputId": "6c66ae05-9f89-41cd-f71c-6aeeb05e0571"
      },
      "execution_count": 45,
      "outputs": [
        {
          "output_type": "stream",
          "name": "stdout",
          "text": [
            "15\n",
            "18\n",
            "19\n",
            "[[13  0  0  0  7]\n",
            " [ 0  7  1 15 11]\n",
            " [14 16  9  2  0]]\n"
          ]
        }
      ]
    },
    {
      "cell_type": "code",
      "source": [
        "# creation of two-dimentional array of size 4x3\n",
        "d=np.array([[1,7,9],[9,5,7],[10,6,5],[14,23,3]],np.int32)\n",
        "print(type(d),d.shape,d.dtype)\n",
        "\n"
      ],
      "metadata": {
        "colab": {
          "base_uri": "https://localhost:8080/",
          "height": 0
        },
        "id": "Vtkt82B64hwH",
        "outputId": "fbb5684a-c358-4340-958d-872f9ef099a3"
      },
      "execution_count": 57,
      "outputs": [
        {
          "output_type": "stream",
          "name": "stdout",
          "text": [
            "<class 'numpy.ndarray'> (4, 3) int32\n"
          ]
        }
      ]
    },
    {
      "cell_type": "code",
      "source": [
        "#calculate eigen values and Right eigen vector\n",
        "ar=np.array([[3,-2],[1,0]])\n",
        "print(ar)\n",
        "e,v=np.linalg.eig(ar)\n",
        "print(\"Eigen value:\\n\", e)\n",
        "print(\"Right eigen vector :\\n\", v)"
      ],
      "metadata": {
        "colab": {
          "base_uri": "https://localhost:8080/",
          "height": 0
        },
        "id": "QhdhW38IJxgE",
        "outputId": "de8d1ca7-5c96-4870-d8da-58219a3a74ef"
      },
      "execution_count": 73,
      "outputs": [
        {
          "output_type": "stream",
          "name": "stdout",
          "text": [
            "[[ 3 -2]\n",
            " [ 1  0]]\n",
            "Eigen value:\n",
            " [2. 1.]\n",
            "Right eigen vector :\n",
            " [[0.89442719 0.70710678]\n",
            " [0.4472136  0.70710678]]\n"
          ]
        }
      ]
    },
    {
      "cell_type": "code",
      "source": [
        "#sum of diagonal elements\n",
        "arr=np.array([[0,1,2],[3,4,5]])\n",
        "print(arr)\n",
        "sum=np.trace(arr)\n",
        "print(sum)\n"
      ],
      "metadata": {
        "colab": {
          "base_uri": "https://localhost:8080/",
          "height": 0
        },
        "id": "UkgUFVEjIO1o",
        "outputId": "9d552990-1e6a-4c41-d110-d9c69579a2b6"
      },
      "execution_count": 69,
      "outputs": [
        {
          "output_type": "stream",
          "name": "stdout",
          "text": [
            "[[0 1 2]\n",
            " [3 4 5]]\n",
            "4\n"
          ]
        }
      ]
    },
    {
      "cell_type": "code",
      "source": [
        "#reshape the given data\n",
        "array1=np.arange(1,7)\n",
        "print(array1)\n",
        "array1=array1.reshape((3,2))\n",
        "print(array1)\n",
        "array1=array1.reshape((2,3))\n",
        "print(array1)"
      ],
      "metadata": {
        "colab": {
          "base_uri": "https://localhost:8080/",
          "height": 0
        },
        "id": "EI1ckwGw_Jy9",
        "outputId": "c425d027-7fb7-4668-9481-2b7f4152ccc1"
      },
      "execution_count": 67,
      "outputs": [
        {
          "output_type": "stream",
          "name": "stdout",
          "text": [
            "[1 2 3 4 5 6]\n",
            "[[1 2]\n",
            " [3 4]\n",
            " [5 6]]\n",
            "[[1 2 3]\n",
            " [4 5 6]]\n"
          ]
        }
      ]
    },
    {
      "cell_type": "code",
      "source": [
        "#matplotlib\n",
        "%matplotlib inline"
      ],
      "metadata": {
        "id": "WYQNHUvEQn-l"
      },
      "execution_count": 74,
      "outputs": []
    },
    {
      "cell_type": "code",
      "source": [
        "from matplotlib import pyplot as pt"
      ],
      "metadata": {
        "id": "_IHOd89OGoVj"
      },
      "execution_count": 75,
      "outputs": []
    },
    {
      "cell_type": "code",
      "source": [
        "# available styles\n",
        "pt.style.available\n"
      ],
      "metadata": {
        "colab": {
          "base_uri": "https://localhost:8080/",
          "height": 0
        },
        "id": "OEFNp8w-Q4LM",
        "outputId": "4417351e-b983-4bd4-8203-b58d626b15ab"
      },
      "execution_count": 76,
      "outputs": [
        {
          "output_type": "execute_result",
          "data": {
            "text/plain": [
              "['Solarize_Light2',\n",
              " '_classic_test_patch',\n",
              " '_mpl-gallery',\n",
              " '_mpl-gallery-nogrid',\n",
              " 'bmh',\n",
              " 'classic',\n",
              " 'dark_background',\n",
              " 'fast',\n",
              " 'fivethirtyeight',\n",
              " 'ggplot',\n",
              " 'grayscale',\n",
              " 'seaborn-v0_8',\n",
              " 'seaborn-v0_8-bright',\n",
              " 'seaborn-v0_8-colorblind',\n",
              " 'seaborn-v0_8-dark',\n",
              " 'seaborn-v0_8-dark-palette',\n",
              " 'seaborn-v0_8-darkgrid',\n",
              " 'seaborn-v0_8-deep',\n",
              " 'seaborn-v0_8-muted',\n",
              " 'seaborn-v0_8-notebook',\n",
              " 'seaborn-v0_8-paper',\n",
              " 'seaborn-v0_8-pastel',\n",
              " 'seaborn-v0_8-poster',\n",
              " 'seaborn-v0_8-talk',\n",
              " 'seaborn-v0_8-ticks',\n",
              " 'seaborn-v0_8-white',\n",
              " 'seaborn-v0_8-whitegrid',\n",
              " 'tableau-colorblind10']"
            ]
          },
          "metadata": {},
          "execution_count": 76
        }
      ]
    },
    {
      "cell_type": "code",
      "source": [
        "pt.style.use(\"grayscale\")"
      ],
      "metadata": {
        "id": "RcyPJ0yiUH-f"
      },
      "execution_count": 77,
      "outputs": []
    },
    {
      "cell_type": "code",
      "source": [
        "#sample data\n",
        "#programming languages\n",
        "prog_lang=['Java', ' Python', 'PHP', 'JavaScript', 'C#','C++']\n",
        "#popularity\n",
        "pop=[22.2, 17.6, 8.8, 8, 7.7, 6.7]\n",
        "#color\n",
        "col=['orange','green','blue','red','cyan','indigo']\n",
        "explode=[0.2,0,0,0,0,0]"
      ],
      "metadata": {
        "id": "YTFfnegtUVn8"
      },
      "execution_count": 100,
      "outputs": []
    },
    {
      "cell_type": "code",
      "source": [
        "pt.pie(x=pop,labels=prog_lang,colors=col,explode=explode,wedgeprops={'edgecolor':'black'},shadow=True,autopct='%1.1f%%')\n",
        "pt.tight_layout()\n",
        "pt.title(\"Popularity of Programming Languages\")\n",
        "pt.show()\n"
      ],
      "metadata": {
        "colab": {
          "base_uri": "https://localhost:8080/",
          "height": 509
        },
        "id": "z7BRjLe4WipM",
        "outputId": "11d9efce-46c1-415f-f040-39ff38e7ed25"
      },
      "execution_count": 102,
      "outputs": [
        {
          "output_type": "display_data",
          "data": {
            "text/plain": [
              "<Figure size 640x480 with 1 Axes>"
            ],
            "image/png": "[encoded data removed]"
          },
          "metadata": {}
        }
      ]
    },
    {
      "cell_type": "code",
      "source": [],
      "metadata": {
        "id": "jxd-X2_rWwB_"
      },
      "execution_count": null,
      "outputs": []
    }
  ]
}